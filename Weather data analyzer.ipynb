{
 "cells": [
  {
   "cell_type": "markdown",
   "metadata": {},
   "source": [
    "Weather Data"
   ]
  },
  {
   "cell_type": "code",
   "execution_count": 1,
   "metadata": {},
   "outputs": [
    {
     "name": "stdout",
     "output_type": "stream",
     "text": [
      "1.0.1\n"
     ]
    },
    {
     "data": {
      "text/html": [
       "<div>\n",
       "<style scoped>\n",
       "    .dataframe tbody tr th:only-of-type {\n",
       "        vertical-align: middle;\n",
       "    }\n",
       "\n",
       "    .dataframe tbody tr th {\n",
       "        vertical-align: top;\n",
       "    }\n",
       "\n",
       "    .dataframe thead th {\n",
       "        text-align: right;\n",
       "    }\n",
       "</style>\n",
       "<table border=\"1\" class=\"dataframe\">\n",
       "  <thead>\n",
       "    <tr style=\"text-align: right;\">\n",
       "      <th></th>\n",
       "      <th>EventId</th>\n",
       "      <th>Type</th>\n",
       "      <th>Severity</th>\n",
       "      <th>StartTime(UTC)</th>\n",
       "      <th>EndTime(UTC)</th>\n",
       "      <th>TimeZone</th>\n",
       "      <th>AirportCode</th>\n",
       "      <th>LocationLat</th>\n",
       "      <th>LocationLng</th>\n",
       "      <th>City</th>\n",
       "      <th>County</th>\n",
       "      <th>State</th>\n",
       "      <th>ZipCode</th>\n",
       "    </tr>\n",
       "  </thead>\n",
       "  <tbody>\n",
       "    <tr>\n",
       "      <th>0</th>\n",
       "      <td>W-1</td>\n",
       "      <td>Snow</td>\n",
       "      <td>Light</td>\n",
       "      <td>2016-01-06 23:14:00</td>\n",
       "      <td>2016-01-07 00:34:00</td>\n",
       "      <td>US/Mountain</td>\n",
       "      <td>K04V</td>\n",
       "      <td>38.0972</td>\n",
       "      <td>-106.1689</td>\n",
       "      <td>Saguache</td>\n",
       "      <td>Saguache</td>\n",
       "      <td>CO</td>\n",
       "      <td>81149.0</td>\n",
       "    </tr>\n",
       "    <tr>\n",
       "      <th>1</th>\n",
       "      <td>W-2</td>\n",
       "      <td>Snow</td>\n",
       "      <td>Light</td>\n",
       "      <td>2016-01-07 04:14:00</td>\n",
       "      <td>2016-01-07 04:54:00</td>\n",
       "      <td>US/Mountain</td>\n",
       "      <td>K04V</td>\n",
       "      <td>38.0972</td>\n",
       "      <td>-106.1689</td>\n",
       "      <td>Saguache</td>\n",
       "      <td>Saguache</td>\n",
       "      <td>CO</td>\n",
       "      <td>81149.0</td>\n",
       "    </tr>\n",
       "    <tr>\n",
       "      <th>2</th>\n",
       "      <td>W-3</td>\n",
       "      <td>Snow</td>\n",
       "      <td>Light</td>\n",
       "      <td>2016-01-07 05:54:00</td>\n",
       "      <td>2016-01-07 15:34:00</td>\n",
       "      <td>US/Mountain</td>\n",
       "      <td>K04V</td>\n",
       "      <td>38.0972</td>\n",
       "      <td>-106.1689</td>\n",
       "      <td>Saguache</td>\n",
       "      <td>Saguache</td>\n",
       "      <td>CO</td>\n",
       "      <td>81149.0</td>\n",
       "    </tr>\n",
       "    <tr>\n",
       "      <th>3</th>\n",
       "      <td>W-4</td>\n",
       "      <td>Snow</td>\n",
       "      <td>Light</td>\n",
       "      <td>2016-01-08 05:34:00</td>\n",
       "      <td>2016-01-08 05:54:00</td>\n",
       "      <td>US/Mountain</td>\n",
       "      <td>K04V</td>\n",
       "      <td>38.0972</td>\n",
       "      <td>-106.1689</td>\n",
       "      <td>Saguache</td>\n",
       "      <td>Saguache</td>\n",
       "      <td>CO</td>\n",
       "      <td>81149.0</td>\n",
       "    </tr>\n",
       "    <tr>\n",
       "      <th>4</th>\n",
       "      <td>W-5</td>\n",
       "      <td>Snow</td>\n",
       "      <td>Light</td>\n",
       "      <td>2016-01-08 13:54:00</td>\n",
       "      <td>2016-01-08 15:54:00</td>\n",
       "      <td>US/Mountain</td>\n",
       "      <td>K04V</td>\n",
       "      <td>38.0972</td>\n",
       "      <td>-106.1689</td>\n",
       "      <td>Saguache</td>\n",
       "      <td>Saguache</td>\n",
       "      <td>CO</td>\n",
       "      <td>81149.0</td>\n",
       "    </tr>\n",
       "    <tr>\n",
       "      <th>...</th>\n",
       "      <td>...</td>\n",
       "      <td>...</td>\n",
       "      <td>...</td>\n",
       "      <td>...</td>\n",
       "      <td>...</td>\n",
       "      <td>...</td>\n",
       "      <td>...</td>\n",
       "      <td>...</td>\n",
       "      <td>...</td>\n",
       "      <td>...</td>\n",
       "      <td>...</td>\n",
       "      <td>...</td>\n",
       "      <td>...</td>\n",
       "    </tr>\n",
       "    <tr>\n",
       "      <th>5059828</th>\n",
       "      <td>W-5060507</td>\n",
       "      <td>Fog</td>\n",
       "      <td>Severe</td>\n",
       "      <td>2019-12-28 03:40:00</td>\n",
       "      <td>2019-12-28 03:48:00</td>\n",
       "      <td>US/Mountain</td>\n",
       "      <td>KBVR</td>\n",
       "      <td>42.5833</td>\n",
       "      <td>-108.2833</td>\n",
       "      <td>Lander</td>\n",
       "      <td>Fremont</td>\n",
       "      <td>WY</td>\n",
       "      <td>82520.0</td>\n",
       "    </tr>\n",
       "    <tr>\n",
       "      <th>5059829</th>\n",
       "      <td>W-5060508</td>\n",
       "      <td>Fog</td>\n",
       "      <td>Severe</td>\n",
       "      <td>2019-12-28 03:53:00</td>\n",
       "      <td>2019-12-28 04:53:00</td>\n",
       "      <td>US/Mountain</td>\n",
       "      <td>KBVR</td>\n",
       "      <td>42.5833</td>\n",
       "      <td>-108.2833</td>\n",
       "      <td>Lander</td>\n",
       "      <td>Fremont</td>\n",
       "      <td>WY</td>\n",
       "      <td>82520.0</td>\n",
       "    </tr>\n",
       "    <tr>\n",
       "      <th>5059830</th>\n",
       "      <td>W-5060509</td>\n",
       "      <td>Fog</td>\n",
       "      <td>Moderate</td>\n",
       "      <td>2019-12-28 12:53:00</td>\n",
       "      <td>2019-12-28 13:35:00</td>\n",
       "      <td>US/Mountain</td>\n",
       "      <td>KBVR</td>\n",
       "      <td>42.5833</td>\n",
       "      <td>-108.2833</td>\n",
       "      <td>Lander</td>\n",
       "      <td>Fremont</td>\n",
       "      <td>WY</td>\n",
       "      <td>82520.0</td>\n",
       "    </tr>\n",
       "    <tr>\n",
       "      <th>5059831</th>\n",
       "      <td>W-5060510</td>\n",
       "      <td>Snow</td>\n",
       "      <td>Light</td>\n",
       "      <td>2019-12-28 13:35:00</td>\n",
       "      <td>2019-12-28 17:04:00</td>\n",
       "      <td>US/Mountain</td>\n",
       "      <td>KBVR</td>\n",
       "      <td>42.5833</td>\n",
       "      <td>-108.2833</td>\n",
       "      <td>Lander</td>\n",
       "      <td>Fremont</td>\n",
       "      <td>WY</td>\n",
       "      <td>82520.0</td>\n",
       "    </tr>\n",
       "    <tr>\n",
       "      <th>5059832</th>\n",
       "      <td>W-5060511</td>\n",
       "      <td>Snow</td>\n",
       "      <td>Light</td>\n",
       "      <td>2019-12-28 17:15:00</td>\n",
       "      <td>2019-12-28 17:53:00</td>\n",
       "      <td>US/Mountain</td>\n",
       "      <td>KBVR</td>\n",
       "      <td>42.5833</td>\n",
       "      <td>-108.2833</td>\n",
       "      <td>Lander</td>\n",
       "      <td>Fremont</td>\n",
       "      <td>WY</td>\n",
       "      <td>82520.0</td>\n",
       "    </tr>\n",
       "  </tbody>\n",
       "</table>\n",
       "<p>5059833 rows × 13 columns</p>\n",
       "</div>"
      ],
      "text/plain": [
       "           EventId  Type  Severity       StartTime(UTC)         EndTime(UTC)  \\\n",
       "0              W-1  Snow     Light  2016-01-06 23:14:00  2016-01-07 00:34:00   \n",
       "1              W-2  Snow     Light  2016-01-07 04:14:00  2016-01-07 04:54:00   \n",
       "2              W-3  Snow     Light  2016-01-07 05:54:00  2016-01-07 15:34:00   \n",
       "3              W-4  Snow     Light  2016-01-08 05:34:00  2016-01-08 05:54:00   \n",
       "4              W-5  Snow     Light  2016-01-08 13:54:00  2016-01-08 15:54:00   \n",
       "...            ...   ...       ...                  ...                  ...   \n",
       "5059828  W-5060507   Fog    Severe  2019-12-28 03:40:00  2019-12-28 03:48:00   \n",
       "5059829  W-5060508   Fog    Severe  2019-12-28 03:53:00  2019-12-28 04:53:00   \n",
       "5059830  W-5060509   Fog  Moderate  2019-12-28 12:53:00  2019-12-28 13:35:00   \n",
       "5059831  W-5060510  Snow     Light  2019-12-28 13:35:00  2019-12-28 17:04:00   \n",
       "5059832  W-5060511  Snow     Light  2019-12-28 17:15:00  2019-12-28 17:53:00   \n",
       "\n",
       "            TimeZone AirportCode  LocationLat  LocationLng      City  \\\n",
       "0        US/Mountain        K04V      38.0972    -106.1689  Saguache   \n",
       "1        US/Mountain        K04V      38.0972    -106.1689  Saguache   \n",
       "2        US/Mountain        K04V      38.0972    -106.1689  Saguache   \n",
       "3        US/Mountain        K04V      38.0972    -106.1689  Saguache   \n",
       "4        US/Mountain        K04V      38.0972    -106.1689  Saguache   \n",
       "...              ...         ...          ...          ...       ...   \n",
       "5059828  US/Mountain        KBVR      42.5833    -108.2833    Lander   \n",
       "5059829  US/Mountain        KBVR      42.5833    -108.2833    Lander   \n",
       "5059830  US/Mountain        KBVR      42.5833    -108.2833    Lander   \n",
       "5059831  US/Mountain        KBVR      42.5833    -108.2833    Lander   \n",
       "5059832  US/Mountain        KBVR      42.5833    -108.2833    Lander   \n",
       "\n",
       "           County State  ZipCode  \n",
       "0        Saguache    CO  81149.0  \n",
       "1        Saguache    CO  81149.0  \n",
       "2        Saguache    CO  81149.0  \n",
       "3        Saguache    CO  81149.0  \n",
       "4        Saguache    CO  81149.0  \n",
       "...           ...   ...      ...  \n",
       "5059828   Fremont    WY  82520.0  \n",
       "5059829   Fremont    WY  82520.0  \n",
       "5059830   Fremont    WY  82520.0  \n",
       "5059831   Fremont    WY  82520.0  \n",
       "5059832   Fremont    WY  82520.0  \n",
       "\n",
       "[5059833 rows x 13 columns]"
      ]
     },
     "execution_count": 1,
     "metadata": {},
     "output_type": "execute_result"
    }
   ],
   "source": [
    "import pandas as pd\n",
    "print(pd.__version__)\n",
    "import csv\n",
    "import matplotlib.pyplot as plt\n",
    "import numpy as np\n",
    "\n",
    "pd.options.mode.chained_assignment = None \n",
    "\n",
    "string_path_weather = \"US_WeatherEvents_2016-2019.csv\"\n",
    "\n",
    "weather_input = pd.read_csv(string_path_weather) \n",
    "\n",
    "weather_input"
   ]
  },
  {
   "cell_type": "markdown",
   "metadata": {},
   "source": [
    "1. How many snow events were recorded?"
   ]
  },
  {
   "cell_type": "code",
   "execution_count": 2,
   "metadata": {},
   "outputs": [
    {
     "name": "stdout",
     "output_type": "stream",
     "text": [
      "total_snow =  679472\n"
     ]
    }
   ],
   "source": [
    "total_snow = weather_input.loc[weather_input['Type']==\"Snow\"]\n",
    "total_snow['total_snow'] = 1\n",
    "total_snow = total_snow.groupby(['Type']).count()['total_snow']\n",
    "total_snow = total_snow[0]\n",
    "print(\"total_snow = \",total_snow)\n"
   ]
  },
  {
   "cell_type": "markdown",
   "metadata": {},
   "source": [
    "2. How many moderate snow events were recorded each year? Produce a table and line plot"
   ]
  },
  {
   "cell_type": "code",
   "execution_count": 3,
   "metadata": {},
   "outputs": [
    {
     "name": "stdout",
     "output_type": "stream",
     "text": [
      "Moderate snow in 2016: 16900\n",
      "Moderate snow in 2017: 15779\n",
      "Moderate snow in 2018: 18684\n",
      "Moderate snow in 2019: 22278\n"
     ]
    },
    {
     "data": {
      "image/png": "[encoded data removed]",
      "text/plain": [
       "<Figure size 432x288 with 1 Axes>"
      ]
     },
     "metadata": {
      "needs_background": "light"
     },
     "output_type": "display_data"
    }
   ],
   "source": [
    "moderate_snow_2016  = weather_input.loc[(weather_input['Severity']==\"Moderate\") & (weather_input['Type']==\"Snow\") \n",
    " & (weather_input['StartTime(UTC)'].str.contains('2016') ) ]                                                          \n",
    "moderate_snow_2016['moderate_snow_2016'] = 1\n",
    "test = moderate_snow_2016.groupby(['Type','Severity' ]).count()['moderate_snow_2016']\n",
    "moderate_snow_2016 = test[0]\n",
    "print(\"Moderate snow in 2016:\",moderate_snow_2016)\n",
    "\n",
    "\n",
    "moderate_snow_2017  = weather_input.loc[(weather_input['Severity']==\"Moderate\") & (weather_input['Type']==\"Snow\") \n",
    " & (weather_input['StartTime(UTC)'].str.contains('2017') ) ]                                                          \n",
    "moderate_snow_2017['moderate_snow_2017'] = 1\n",
    "moderate_snow_2017 = moderate_snow_2017.groupby(['Type','Severity' ]).count()['moderate_snow_2017']\n",
    "moderate_snow_2017 = moderate_snow_2017[0]\n",
    "print(\"Moderate snow in 2017:\",moderate_snow_2017) \n",
    "\n",
    "moderate_snow_2018  = weather_input.loc[(weather_input['Severity']==\"Moderate\") & (weather_input['Type']==\"Snow\") \n",
    " & (weather_input['StartTime(UTC)'].str.contains('2018') ) ]                                                          \n",
    "moderate_snow_2018['moderate_snow_2018'] = 1\n",
    "moderate_snow_2018 = moderate_snow_2018.groupby(['Type','Severity' ]).count()['moderate_snow_2018']\n",
    "moderate_snow_2018 = moderate_snow_2018[0]\n",
    "print(\"Moderate snow in 2018:\",moderate_snow_2018) \n",
    "\n",
    "moderate_snow_2019  = weather_input.loc[(weather_input['Severity']==\"Moderate\") & (weather_input['Type']==\"Snow\") \n",
    " & (weather_input['StartTime(UTC)'].str.contains('2019') ) ]                                                          \n",
    "moderate_snow_2019['moderate_snow_2019'] = 1\n",
    "moderate_snow_2019 = moderate_snow_2019.groupby(['Type','Severity' ]).count()['moderate_snow_2019']\n",
    "moderate_snow_2019 = moderate_snow_2019[0]\n",
    "print(\"Moderate snow in 2019:\",moderate_snow_2019) \n",
    "\n",
    "x = [2016, 2017,2018,2019]\n",
    "y = [moderate_snow_2016,moderate_snow_2017,moderate_snow_2018,moderate_snow_2019]\n",
    "plt.plot(x,y)\n",
    "plt.ylabel('# of moderate snow events')\n",
    "plt.xlabel('year')\n",
    "plt.show()\n"
   ]
  },
  {
   "cell_type": "markdown",
   "metadata": {},
   "source": [
    "3. How many snow events were recorded in each state?"
   ]
  },
  {
   "cell_type": "code",
   "execution_count": 4,
   "metadata": {},
   "outputs": [
    {
     "name": "stdout",
     "output_type": "stream",
     "text": [
      "Snow events for each state\n",
      "State\n",
      "AL      701\n",
      "AR     1461\n",
      "AZ     4973\n",
      "CA     8727\n",
      "CO    38218\n",
      "CT     3200\n",
      "DE      663\n",
      "FL       69\n",
      "GA     1021\n",
      "IA    26408\n",
      "ID    19491\n",
      "IL    17429\n",
      "IN    12838\n",
      "KS     5758\n",
      "KY     5449\n",
      "LA      401\n",
      "MA     9595\n",
      "MD     2842\n",
      "ME    13821\n",
      "MI    76455\n",
      "MN    74201\n",
      "MO     5662\n",
      "MS      535\n",
      "MT    23906\n",
      "NC     4820\n",
      "ND    33522\n",
      "NE    16751\n",
      "NH     9856\n",
      "NJ     3695\n",
      "NM     7561\n",
      "NV     5852\n",
      "NY    28592\n",
      "OH    20848\n",
      "OK     3078\n",
      "OR     8988\n",
      "PA    19555\n",
      "RI     1530\n",
      "SC      837\n",
      "SD    16491\n",
      "TN     1302\n",
      "TX     3351\n",
      "UT     8386\n",
      "VA     9012\n",
      "VT    10124\n",
      "WA    12737\n",
      "WI    46691\n",
      "WV     8423\n",
      "WY    43646\n",
      "Name: count, dtype: int64\n"
     ]
    }
   ],
   "source": [
    "snow_states= weather_input.loc[(weather_input['Type']==\"Snow\")]\n",
    "snow_states['count'] = 1\n",
    "states = snow_states.groupby(['State']).count()['count']\n",
    "# states = states[0]\n",
    "print(\"Snow events for each state\")\n",
    "print(states)\n"
   ]
  },
  {
   "cell_type": "markdown",
   "metadata": {},
   "source": [
    "4. How many snow events were recorded each hour?\n"
   ]
  },
  {
   "cell_type": "code",
   "execution_count": 5,
   "metadata": {},
   "outputs": [
    {
     "name": "stdout",
     "output_type": "stream",
     "text": [
      "Snow events recorded each hour\n",
      "0     26442\n",
      "1     26284\n",
      "2     26450\n",
      "3     26421\n",
      "4     27113\n",
      "5     27210\n",
      "6     27913\n",
      "7     27693\n",
      "8     28397\n",
      "9     28839\n",
      "10    29525\n",
      "11    30026\n",
      "12    30313\n",
      "13    31593\n",
      "14    32087\n",
      "15    31020\n",
      "16    29623\n",
      "17    28661\n",
      "18    27772\n",
      "19    27686\n",
      "20    27618\n",
      "21    27130\n",
      "22    27018\n",
      "23    26638\n",
      "Name: StartTime(UTC), dtype: int64\n"
     ]
    },
    {
     "data": {
      "image/png": "[encoded data removed]",
      "text/plain": [
       "<Figure size 432x288 with 1 Axes>"
      ]
     },
     "metadata": {
      "needs_background": "light"
     },
     "output_type": "display_data"
    }
   ],
   "source": [
    "just_snow= weather_input.loc[(weather_input['Type']==\"Snow\") ]\n",
    "\n",
    "snow_hourly = pd.DatetimeIndex(just_snow['StartTime(UTC)']).hour\n",
    "# print(snow_hourly)\n",
    "\n",
    "# snow_hourly= pd.DatetimeIndex(tweet_input['date']).year\n",
    "snow_hourly = snow_hourly.value_counts().sort_index()\n",
    "# print(\"Yearly tweets\")\n",
    "\n",
    "print(\"Snow events recorded each hour\")\n",
    "print(snow_hourly)\n",
    "\n",
    "x = [0,1,2,3,4,5,6,7,8,9,10,11,12,13,14,15,16,17,18,19,20,21,22,23]\n",
    "y = [snow_hourly[0],snow_hourly[1],snow_hourly[2],snow_hourly[3],snow_hourly[4],snow_hourly[5],\n",
    "     snow_hourly[6],snow_hourly[7],snow_hourly[8],snow_hourly[9],snow_hourly[10],snow_hourly[11],\n",
    "     snow_hourly[12],snow_hourly[13],snow_hourly[14],snow_hourly[15],snow_hourly[16],snow_hourly[17],\n",
    "     snow_hourly[18],snow_hourly[19],snow_hourly[20],snow_hourly[21],snow_hourly[22],snow_hourly[23]]\n",
    "plt.plot(x,y)\n",
    "plt.ylabel('frequency of snow')\n",
    "plt.xlabel('Hour')\n",
    "plt.show()"
   ]
  },
  {
   "cell_type": "markdown",
   "metadata": {},
   "source": [
    "5. How many events of each severity did San Diego have? Produce a table and bar plot."
   ]
  },
  {
   "cell_type": "code",
   "execution_count": 6,
   "metadata": {
    "scrolled": false
   },
   "outputs": [
    {
     "name": "stdout",
     "output_type": "stream",
     "text": [
      "Events of each severity in SD\n",
      "Severity\n",
      "Heavy         62\n",
      "Light       2870\n",
      "Moderate    1992\n",
      "Other          3\n",
      "Severe      1365\n",
      "UNK           15\n",
      "Name: count, dtype: int64\n"
     ]
    },
    {
     "data": {
      "text/plain": [
       "<matplotlib.legend.Legend at 0x1199336d8>"
      ]
     },
     "execution_count": 6,
     "metadata": {},
     "output_type": "execute_result"
    },
    {
     "data": {
      "image/png": "[encoded data removed]",
      "text/plain": [
       "<Figure size 432x288 with 1 Axes>"
      ]
     },
     "metadata": {
      "needs_background": "light"
     },
     "output_type": "display_data"
    }
   ],
   "source": [
    "snow_occurance_00= weather_input.loc[(weather_input['City'] == 'San Diego') ]\n",
    "snow_occurance_00['count'] = 1\n",
    "snow_occurance_00 = snow_occurance_00.groupby(['Severity']).count()['count']\n",
    "# snow_occurance_00 = snow_occurance_00[0]\n",
    "print(\"Events of each severity in SD\")\n",
    "print( snow_occurance_00)\n",
    "\n",
    "Severity=['Heavy','Light','Moderate','Other','Severe','UNK']\n",
    "frequency = [62,2870,1992,3,1365,15]\n",
    "\n",
    "xpos = np.arange(len(Severity))\n",
    "\n",
    "plt.bar(xpos,frequency, label=\"frequency\")\n",
    "\n",
    "plt.xticks(xpos,Severity)\n",
    "plt.ylabel(\"Frequency\")\n",
    "plt.title('Events of each severity in SD')\n",
    "plt.legend()"
   ]
  }
 ],
 "metadata": {
  "kernelspec": {
   "display_name": "Python 3",
   "language": "python",
   "name": "python3"
  },
  "language_info": {
   "codemirror_mode": {
    "name": "ipython",
    "version": 3
   },
   "file_extension": ".py",
   "mimetype": "text/x-python",
   "name": "python",
   "nbconvert_exporter": "python",
   "pygments_lexer": "ipython3",
   "version": "3.7.3"
  },
  "pycharm": {
   "stem_cell": {
    "cell_type": "raw",
    "metadata": {
     "collapsed": false
    },
    "source": []
   }
  }
 },
 "nbformat": 4,
 "nbformat_minor": 2
}
