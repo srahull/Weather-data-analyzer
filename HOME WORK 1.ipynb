{
 "cells": [
  {
   "cell_type": "markdown",
   "metadata": {},
   "source": [
    "# HW 1 \n",
    "Problem Weather Data"
   ]
  },
  {
   "cell_type": "code",
   "execution_count": 1,
   "metadata": {},
   "outputs": [
    {
     "name": "stdout",
     "output_type": "stream",
     "text": [
      "1.0.1\n"
     ]
    }
   ],
   "source": [
    "import pandas as pd\n",
    "print(pd.__version__)\n",
    "import csv\n",
    "import matplotlib.pyplot as plt\n",
    "import numpy as np\n",
    "\n",
    "pd.options.mode.chained_assignment = None \n",
    "\n",
    "string_path_weather = \"/Users/rahulsharma/Desktop/BIg data/HOME WORK1/US_WeatherEvents_2016-2019.csv\"\n",
    "\n",
    "string_path_trump_tweet = \"/Users/rahulsharma/Desktop/BIg data/HOME WORK1/trumptweets.csv\"\n",
    "\n",
    "weather_input = pd.read_csv(string_path_weather) \n",
    "\n",
    "tweet_input = pd.read_csv(string_path_trump_tweet) \n"
   ]
  },
  {
   "cell_type": "markdown",
   "metadata": {},
   "source": [
    "1. How many snow events were recorded?"
   ]
  },
  {
   "cell_type": "code",
   "execution_count": 2,
   "metadata": {},
   "outputs": [
    {
     "name": "stdout",
     "output_type": "stream",
     "text": [
      "total_snow =  679472\n"
     ]
    }
   ],
   "source": [
    "total_snow = weather_input.loc[weather_input['Type']==\"Snow\"]\n",
    "total_snow['total_snow'] = 1\n",
    "total_snow = total_snow.groupby(['Type']).count()['total_snow']\n",
    "total_snow = total_snow[0]\n",
    "print(\"total_snow = \",total_snow)\n"
   ]
  },
  {
   "cell_type": "markdown",
   "metadata": {},
   "source": [
    "2. How many moderate snow events were recorded each year? Produce a table and line plot"
   ]
  },
  {
   "cell_type": "code",
   "execution_count": 3,
   "metadata": {},
   "outputs": [
    {
     "name": "stdout",
     "output_type": "stream",
     "text": [
      "Moderate snow in 2016: 16900\n",
      "Moderate snow in 2017: 15779\n",
      "Moderate snow in 2018: 18684\n",
      "Moderate snow in 2019: 22278\n"
     ]
    },
    {
     "data": {
      "image/png": "[encoded data removed]",
      "text/plain": [
       "<Figure size 432x288 with 1 Axes>"
      ]
     },
     "metadata": {
      "needs_background": "light"
     },
     "output_type": "display_data"
    }
   ],
   "source": [
    "moderate_snow_2016  = weather_input.loc[(weather_input['Severity']==\"Moderate\") & (weather_input['Type']==\"Snow\") \n",
    " & (weather_input['StartTime(UTC)'].str.contains('2016') ) ]                                                          \n",
    "moderate_snow_2016['moderate_snow_2016'] = 1\n",
    "test = moderate_snow_2016.groupby(['Type','Severity' ]).count()['moderate_snow_2016']\n",
    "moderate_snow_2016 = test[0]\n",
    "print(\"Moderate snow in 2016:\",moderate_snow_2016)\n",
    "\n",
    "\n",
    "moderate_snow_2017  = weather_input.loc[(weather_input['Severity']==\"Moderate\") & (weather_input['Type']==\"Snow\") \n",
    " & (weather_input['StartTime(UTC)'].str.contains('2017') ) ]                                                          \n",
    "moderate_snow_2017['moderate_snow_2017'] = 1\n",
    "moderate_snow_2017 = moderate_snow_2017.groupby(['Type','Severity' ]).count()['moderate_snow_2017']\n",
    "moderate_snow_2017 = moderate_snow_2017[0]\n",
    "print(\"Moderate snow in 2017:\",moderate_snow_2017) \n",
    "\n",
    "moderate_snow_2018  = weather_input.loc[(weather_input['Severity']==\"Moderate\") & (weather_input['Type']==\"Snow\") \n",
    " & (weather_input['StartTime(UTC)'].str.contains('2018') ) ]                                                          \n",
    "moderate_snow_2018['moderate_snow_2018'] = 1\n",
    "moderate_snow_2018 = moderate_snow_2018.groupby(['Type','Severity' ]).count()['moderate_snow_2018']\n",
    "moderate_snow_2018 = moderate_snow_2018[0]\n",
    "print(\"Moderate snow in 2018:\",moderate_snow_2018) \n",
    "\n",
    "moderate_snow_2019  = weather_input.loc[(weather_input['Severity']==\"Moderate\") & (weather_input['Type']==\"Snow\") \n",
    " & (weather_input['StartTime(UTC)'].str.contains('2019') ) ]                                                          \n",
    "moderate_snow_2019['moderate_snow_2019'] = 1\n",
    "moderate_snow_2019 = moderate_snow_2019.groupby(['Type','Severity' ]).count()['moderate_snow_2019']\n",
    "moderate_snow_2019 = moderate_snow_2019[0]\n",
    "print(\"Moderate snow in 2019:\",moderate_snow_2019) \n",
    "\n",
    "x = [2016, 2017,2018,2019]\n",
    "y = [moderate_snow_2016,moderate_snow_2017,moderate_snow_2018,moderate_snow_2019]\n",
    "plt.plot(x,y)\n",
    "plt.ylabel('# of moderate snow events')\n",
    "plt.xlabel('year')\n",
    "plt.show()\n"
   ]
  },
  {
   "cell_type": "markdown",
   "metadata": {},
   "source": [
    "3. How many snow events were recorded in each state?"
   ]
  },
  {
   "cell_type": "code",
   "execution_count": 4,
   "metadata": {},
   "outputs": [
    {
     "name": "stdout",
     "output_type": "stream",
     "text": [
      "Snow events for each state\n",
      "State\n",
      "AL      701\n",
      "AR     1461\n",
      "AZ     4973\n",
      "CA     8727\n",
      "CO    38218\n",
      "CT     3200\n",
      "DE      663\n",
      "FL       69\n",
      "GA     1021\n",
      "IA    26408\n",
      "ID    19491\n",
      "IL    17429\n",
      "IN    12838\n",
      "KS     5758\n",
      "KY     5449\n",
      "LA      401\n",
      "MA     9595\n",
      "MD     2842\n",
      "ME    13821\n",
      "MI    76455\n",
      "MN    74201\n",
      "MO     5662\n",
      "MS      535\n",
      "MT    23906\n",
      "NC     4820\n",
      "ND    33522\n",
      "NE    16751\n",
      "NH     9856\n",
      "NJ     3695\n",
      "NM     7561\n",
      "NV     5852\n",
      "NY    28592\n",
      "OH    20848\n",
      "OK     3078\n",
      "OR     8988\n",
      "PA    19555\n",
      "RI     1530\n",
      "SC      837\n",
      "SD    16491\n",
      "TN     1302\n",
      "TX     3351\n",
      "UT     8386\n",
      "VA     9012\n",
      "VT    10124\n",
      "WA    12737\n",
      "WI    46691\n",
      "WV     8423\n",
      "WY    43646\n",
      "Name: count, dtype: int64\n"
     ]
    }
   ],
   "source": [
    "snow_states= weather_input.loc[(weather_input['Type']==\"Snow\")]\n",
    "snow_states['count'] = 1\n",
    "states = snow_states.groupby(['State']).count()['count']\n",
    "# states = states[0]\n",
    "print(\"Snow events for each state\")\n",
    "print(states)\n"
   ]
  },
  {
   "cell_type": "markdown",
   "metadata": {},
   "source": [
    "4. How many snow events were recorded each hour?\n"
   ]
  },
  {
   "cell_type": "code",
   "execution_count": 5,
   "metadata": {},
   "outputs": [
    {
     "name": "stdout",
     "output_type": "stream",
     "text": [
      "Snow events recorded each hour\n",
      "0     26442\n",
      "1     26284\n",
      "2     26450\n",
      "3     26421\n",
      "4     27113\n",
      "5     27210\n",
      "6     27913\n",
      "7     27693\n",
      "8     28397\n",
      "9     28839\n",
      "10    29525\n",
      "11    30026\n",
      "12    30313\n",
      "13    31593\n",
      "14    32087\n",
      "15    31020\n",
      "16    29623\n",
      "17    28661\n",
      "18    27772\n",
      "19    27686\n",
      "20    27618\n",
      "21    27130\n",
      "22    27018\n",
      "23    26638\n",
      "Name: StartTime(UTC), dtype: int64\n"
     ]
    },
    {
     "data": {
      "image/png": "[encoded data removed]",
      "text/plain": [
       "<Figure size 432x288 with 1 Axes>"
      ]
     },
     "metadata": {
      "needs_background": "light"
     },
     "output_type": "display_data"
    }
   ],
   "source": [
    "just_snow= weather_input.loc[(weather_input['Type']==\"Snow\") ]\n",
    "\n",
    "snow_hourly = pd.DatetimeIndex(just_snow['StartTime(UTC)']).hour\n",
    "snow_hourly = snow_hourly.value_counts().sort_index()\n",
    "\n",
    "print(\"Snow events recorded each hour\")\n",
    "print(snow_hourly)\n",
    "\n",
    "x = [0,1,2,3,4,5,6,7,8,9,10,11,12,13,14,15,16,17,18,19,20,21,22,23]\n",
    "y = [snow_hourly[0],snow_hourly[1],snow_hourly[2],snow_hourly[3],snow_hourly[4],snow_hourly[5],\n",
    "     snow_hourly[6],snow_hourly[7],snow_hourly[8],snow_hourly[9],snow_hourly[10],snow_hourly[11],\n",
    "     snow_hourly[12],snow_hourly[13],snow_hourly[14],snow_hourly[15],snow_hourly[16],snow_hourly[17],\n",
    "     snow_hourly[18],snow_hourly[19],snow_hourly[20],snow_hourly[21],snow_hourly[22],snow_hourly[23]]\n",
    "plt.plot(x,y)\n",
    "plt.ylabel('frequency of snow')\n",
    "plt.xlabel('Hour')\n",
    "plt.show()"
   ]
  },
  {
   "cell_type": "markdown",
   "metadata": {},
   "source": [
    "5. How many events of each severity did San Diego have? Produce a table and bar plot."
   ]
  },
  {
   "cell_type": "code",
   "execution_count": 6,
   "metadata": {
    "scrolled": false
   },
   "outputs": [
    {
     "name": "stdout",
     "output_type": "stream",
     "text": [
      "Events of each severity in SD\n",
      "Severity\n",
      "Heavy         62\n",
      "Light       2870\n",
      "Moderate    1992\n",
      "Other          3\n",
      "Severe      1365\n",
      "UNK           15\n",
      "Name: count, dtype: int64\n"
     ]
    },
    {
     "data": {
      "text/plain": [
       "<matplotlib.legend.Legend at 0x117f589b0>"
      ]
     },
     "execution_count": 6,
     "metadata": {},
     "output_type": "execute_result"
    },
    {
     "data": {
      "image/png": "[encoded data removed]",
      "text/plain": [
       "<Figure size 432x288 with 1 Axes>"
      ]
     },
     "metadata": {
      "needs_background": "light"
     },
     "output_type": "display_data"
    }
   ],
   "source": [
    "snow_occurance_00= weather_input.loc[(weather_input['City'] == 'San Diego') ]\n",
    "snow_occurance_00['count'] = 1\n",
    "snow_occurance_00 = snow_occurance_00.groupby(['Severity']).count()['count']\n",
    "# snow_occurance_00 = snow_occurance_00[0]\n",
    "print(\"Events of each severity in SD\")\n",
    "print( snow_occurance_00)\n",
    "\n",
    "Severity=['Heavy','Light','Moderate','Other','Severe','UNK']\n",
    "frequency = [62,2870,1992,3,1365,15]\n",
    "\n",
    "xpos = np.arange(len(Severity))\n",
    "\n",
    "plt.bar(xpos,frequency, label=\"frequency\")\n",
    "\n",
    "plt.xticks(xpos,Severity)\n",
    "plt.ylabel(\"Frequency\")\n",
    "plt.title('Events of each severity in SD')\n",
    "plt.legend()"
   ]
  },
  {
   "cell_type": "markdown",
   "metadata": {},
   "source": [
    "# Trump Tweets\n",
    "1. How many tweets did the President make each year? Produce a table of results and plot\n",
    "the values."
   ]
  },
  {
   "cell_type": "code",
   "execution_count": 7,
   "metadata": {},
   "outputs": [
    {
     "name": "stdout",
     "output_type": "stream",
     "text": [
      "Yearly tweets\n",
      "2009      56\n",
      "2010     143\n",
      "2011     870\n",
      "2012    4190\n",
      "2013    8207\n",
      "2014    5987\n",
      "2015    7719\n",
      "2016    3951\n",
      "2017    2232\n",
      "2018    2998\n",
      "2019    4588\n",
      "2020     181\n",
      "Name: date, dtype: int64\n",
      "56\n"
     ]
    },
    {
     "data": {
      "image/png": "[encoded data removed]",
      "text/plain": [
       "<Figure size 432x288 with 1 Axes>"
      ]
     },
     "metadata": {
      "needs_background": "light"
     },
     "output_type": "display_data"
    }
   ],
   "source": [
    "tweets_yearly= pd.DatetimeIndex(tweet_input['date']).year\n",
    "tweets_yearly = tweets_yearly.value_counts().sort_index()\n",
    "print(\"Yearly tweets\")\n",
    "\n",
    "print(tweets_yearly)\n",
    "\n",
    "print(tweets_yearly[2009])\n",
    "\n",
    "\n",
    "x = [2009,2010,2011,2012,2013,2014,2015,2016, 2017,2018,2019, 2020]\n",
    "y = [tweets_yearly[2009], tweets_yearly[2010], tweets_yearly[2011], tweets_yearly[2012], \n",
    "     tweets_yearly[2013], tweets_yearly[2014], tweets_yearly[2015], tweets_yearly[2016], tweets_yearly[2017], \n",
    "     tweets_yearly[2018], tweets_yearly[2019], tweets_yearly[2020]]\n",
    "plt.plot(x,y)\n",
    "plt.ylabel('# tweets each year')\n",
    "plt.xlabel('year')\n",
    "plt.show()"
   ]
  },
  {
   "cell_type": "markdown",
   "metadata": {},
   "source": [
    "2. How many tweets contain \"Fake News\"?"
   ]
  },
  {
   "cell_type": "code",
   "execution_count": 8,
   "metadata": {},
   "outputs": [
    {
     "name": "stdout",
     "output_type": "stream",
     "text": [
      "Fake news Tweets:  579\n"
     ]
    }
   ],
   "source": [
    "tweet_2016= tweet_input.loc[(tweet_input['content'].str.contains('Fake News', case=False))|\n",
    "                            (tweet_input['content'].str.contains('FakeNews', case=False))|\n",
    "                           (tweet_input['content'].str.contains('FakeNews', case=False))]\n",
    "tweet_2016['count'] = 1\n",
    "tweet_2016 = tweet_2016.groupby(['id']).count()['count']\n",
    "\n",
    "print(\"Fake news Tweets: \", tweet_2016.shape[0])"
   ]
  },
  {
   "cell_type": "markdown",
   "metadata": {},
   "source": [
    "3. A tweet with the location could be considered a security issue as it would give the current\n",
    "location of the President. How many tweets contain a location?"
   ]
  },
  {
   "cell_type": "code",
   "execution_count": 9,
   "metadata": {},
   "outputs": [
    {
     "name": "stdout",
     "output_type": "stream",
     "text": [
      "Tweets with geo location: 0\n"
     ]
    }
   ],
   "source": [
    "geo_tweets= tweet_input.loc[(tweet_input['geo'].notnull() ) ]\n",
    "geo_tweets['count'] = 1\n",
    "geo_tweets = geo_tweets.groupby(['date']).count()['count']\n",
    "\n",
    "print(\"Tweets with geo location:\",geo_tweets.shape[0])"
   ]
  },
  {
   "cell_type": "markdown",
   "metadata": {},
   "source": [
    "4. How many tweets were done each hour? Produce a table and a plot."
   ]
  },
  {
   "cell_type": "code",
   "execution_count": 10,
   "metadata": {},
   "outputs": [
    {
     "name": "stdout",
     "output_type": "stream",
     "text": [
      "Hourly tweets\n",
      "0     1620\n",
      "1     1522\n",
      "2     1795\n",
      "3     1974\n",
      "4     2076\n",
      "5     1258\n",
      "6      831\n",
      "7      400\n",
      "8      347\n",
      "9      321\n",
      "10     458\n",
      "11     706\n",
      "12    1377\n",
      "13    2226\n",
      "14    2448\n",
      "15    2544\n",
      "16    2319\n",
      "17    2146\n",
      "18    2025\n",
      "19    2095\n",
      "20    2696\n",
      "21    3184\n",
      "22    3050\n",
      "23    1704\n",
      "Name: date, dtype: int64\n"
     ]
    },
    {
     "data": {
      "image/png": "[encoded data removed]",
      "text/plain": [
       "<Figure size 432x288 with 1 Axes>"
      ]
     },
     "metadata": {
      "needs_background": "light"
     },
     "output_type": "display_data"
    }
   ],
   "source": [
    "tweets_hourly = pd.DatetimeIndex(tweet_input['date']).hour\n",
    "tweets_hourly = tweets_hourly.value_counts().sort_index()\n",
    "\n",
    "print(\"Hourly tweets\")\n",
    "print(tweets_hourly)\n",
    "\n",
    "\n",
    "x = [0,1,2,3,4,5,6,7,8,9,10,11,12,13,14,15,16,17,18,19,20,21,22,23]\n",
    "y = [tweets_hourly[0],tweets_hourly[1],tweets_hourly[2],tweets_hourly[3],tweets_hourly[4],tweets_hourly[5],\n",
    "     tweets_hourly[6],tweets_hourly[7],tweets_hourly[8],tweets_hourly[9],tweets_hourly[10],tweets_hourly[11],\n",
    "     tweets_hourly[12],tweets_hourly[13],tweets_hourly[14],tweets_hourly[15],tweets_hourly[16],tweets_hourly[17],\n",
    "     tweets_hourly[18],tweets_hourly[19],tweets_hourly[20],tweets_hourly[21],tweets_hourly[22],tweets_hourly[23]]\n",
    "\n",
    "plt.plot(x,y)\n",
    "plt.ylabel('# tweets each hour')\n",
    "plt.xlabel('Time')\n",
    "plt.show()"
   ]
  }
 ],
 "metadata": {
  "kernelspec": {
   "display_name": "Python 3",
   "language": "python",
   "name": "python3"
  },
  "language_info": {
   "codemirror_mode": {
    "name": "ipython",
    "version": 3
   },
   "file_extension": ".py",
   "mimetype": "text/x-python",
   "name": "python",
   "nbconvert_exporter": "python",
   "pygments_lexer": "ipython3",
   "version": "3.7.3"
  },
  "pycharm": {
   "stem_cell": {
    "cell_type": "raw",
    "metadata": {
     "collapsed": false
    },
    "source": []
   }
  }
 },
 "nbformat": 4,
 "nbformat_minor": 2
}
